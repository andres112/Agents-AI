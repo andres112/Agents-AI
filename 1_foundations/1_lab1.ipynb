{
 "cells": [
  {
   "cell_type": "markdown",
   "metadata": {},
   "source": [
    "# Welcome to the start of your adventure in Agentic AI"
   ]
  },
  {
   "cell_type": "markdown",
   "metadata": {},
   "source": [
    "<table style=\"margin: 0; text-align: left; width:100%\">\n",
    "    <tr>\n",
    "        <td style=\"width: 150px; height: 150px; vertical-align: middle;\">\n",
    "            <img src=\"../assets/stop.png\" width=\"150\" height=\"150\" style=\"display: block;\" />\n",
    "        </td>\n",
    "        <td>\n",
    "            <h2 style=\"color:#ff7800;\">Are you ready for action??</h2>\n",
    "            <span style=\"color:#ff7800;\">Have you completed all the setup steps in the <a href=\"../setup/\">setup</a> folder?<br/>\n",
    "            Have you read the <a href=\"../README.md\">README</a>? Many common questions are answered here!<br/>\n",
    "            Have you checked out the guides in the <a href=\"../guides/01_intro.ipynb\">guides</a> folder?<br/>\n",
    "            Well in that case, you're ready!!\n",
    "            </span>\n",
    "        </td>\n",
    "    </tr>\n",
    "</table>"
   ]
  },
  {
   "cell_type": "markdown",
   "metadata": {},
   "source": [
    "<table style=\"margin: 0; text-align: left; width:100%\">\n",
    "    <tr>\n",
    "        <td style=\"width: 150px; height: 150px; vertical-align: middle;\">\n",
    "            <img src=\"../assets/tools.png\" width=\"150\" height=\"150\" style=\"display: block;\" />\n",
    "        </td>\n",
    "        <td>\n",
    "            <h2 style=\"color:#00bfff;\">This code is a live resource - keep an eye out for my updates</h2>\n",
    "            <span style=\"color:#00bfff;\">I push updates regularly. As people ask questions or have problems, I add more examples and improve explanations. As a result, the code below might not be identical to the videos, as I've added more steps and better comments. Consider this like an interactive book that accompanies the lectures.<br/><br/>\n",
    "            I try to send emails regularly with important updates related to the course. You can find this in the 'Announcements' section of Udemy in the left sidebar. You can also choose to receive my emails via your Notification Settings in Udemy. I'm respectful of your inbox and always try to add value with my emails!\n",
    "            </span>\n",
    "        </td>\n",
    "    </tr>\n",
    "</table>"
   ]
  },
  {
   "cell_type": "markdown",
   "metadata": {},
   "source": [
    "### And please do remember to contact me if I can help\n",
    "\n",
    "And I love to connect: https://www.linkedin.com/in/eddonner/\n",
    "\n",
    "\n",
    "### New to Notebooks like this one? Head over to the guides folder!\n",
    "\n",
    "Just to check you've already added the Python and Jupyter extensions to Cursor, if not already installed:\n",
    "- Open extensions (View >> extensions)\n",
    "- Search for python, and when the results show, click on the ms-python one, and Install it if not already installed\n",
    "- Search for jupyter, and when the results show, click on the Microsoft one, and Install it if not already installed  \n",
    "Then View >> Explorer to bring back the File Explorer.\n",
    "\n",
    "And then:\n",
    "1. Click where it says \"Select Kernel\" near the top right, and select the option called `.venv (Python 3.12.9)` or similar, which should be the first choice or the most prominent choice. You may need to choose \"Python Environments\" first.\n",
    "2. Click in each \"cell\" below, starting with the cell immediately below this text, and press Shift+Enter to run\n",
    "3. Enjoy!\n",
    "\n",
    "After you click \"Select Kernel\", if there is no option like `.venv (Python 3.12.9)` then please do the following:  \n",
    "1. On Mac: From the Cursor menu, choose Settings >> VS Code Settings (NOTE: be sure to select `VSCode Settings` not `Cursor Settings`);  \n",
    "On Windows PC: From the File menu, choose Preferences >> VS Code Settings(NOTE: be sure to select `VSCode Settings` not `Cursor Settings`)  \n",
    "2. In the Settings search bar, type \"venv\"  \n",
    "3. In the field \"Path to folder with a list of Virtual Environments\" put the path to the project root, like C:\\Users\\username\\projects\\agents (on a Windows PC) or /Users/username/projects/agents (on Mac or Linux).  \n",
    "And then try again.\n",
    "\n",
    "Having problems with missing Python versions in that list? Have you ever used Anaconda before? It might be interferring. Quit Cursor, bring up a new command line, and make sure that your Anaconda environment is deactivated:    \n",
    "`conda deactivate`  \n",
    "And if you still have any problems with conda and python versions, it's possible that you will need to run this too:  \n",
    "`conda config --set auto_activate_base false`  \n",
    "and then from within the Agents directory, you should be able to run `uv python list` and see the Python 3.12 version."
   ]
  },
  {
   "cell_type": "code",
   "execution_count": 32,
   "metadata": {},
   "outputs": [],
   "source": [
    "# First let's do an import. If you get an Import Error, double check that your Kernel is correct..\n",
    "\n",
    "from dotenv import load_dotenv\n"
   ]
  },
  {
   "cell_type": "code",
   "execution_count": 33,
   "metadata": {},
   "outputs": [
    {
     "data": {
      "text/plain": [
       "True"
      ]
     },
     "execution_count": 33,
     "metadata": {},
     "output_type": "execute_result"
    }
   ],
   "source": [
    "# Next it's time to load the API keys into environment variables\n",
    "# If this returns false, see the next cell!\n",
    "\n",
    "load_dotenv(override=True)"
   ]
  },
  {
   "cell_type": "markdown",
   "metadata": {},
   "source": [
    "### Wait, did that just output `False`??\n",
    "\n",
    "If so, the most common reason is that you didn't save your `.env` file after adding the key! Be sure to have saved.\n",
    "\n",
    "Also, make sure the `.env` file is named precisely `.env` and is in the project root directory (`agents`)\n",
    "\n",
    "By the way, your `.env` file should have a stop symbol next to it in Cursor on the left, and that's actually a good thing: that's Cursor saying to you, \"hey, I realize this is a file filled with secret information, and I'm not going to send it to an external AI to suggest changes, because your keys should not be shown to anyone else.\""
   ]
  },
  {
   "cell_type": "markdown",
   "metadata": {},
   "source": [
    "<table style=\"margin: 0; text-align: left; width:100%\">\n",
    "    <tr>\n",
    "        <td style=\"width: 150px; height: 150px; vertical-align: middle;\">\n",
    "            <img src=\"../assets/stop.png\" width=\"150\" height=\"150\" style=\"display: block;\" />\n",
    "        </td>\n",
    "        <td>\n",
    "            <h2 style=\"color:#ff7800;\">Final reminders</h2>\n",
    "            <span style=\"color:#ff7800;\">1. If you're not confident about Environment Variables or Web Endpoints / APIs, please read Topics 3 and 5 in this <a href=\"../guides/04_technical_foundations.ipynb\">technical foundations guide</a>.<br/>\n",
    "            2. If you want to use AIs other than OpenAI, like Gemini, DeepSeek or Ollama (free), please see the first section in this <a href=\"../guides/09_ai_apis_and_ollama.ipynb\">AI APIs guide</a>.<br/>\n",
    "            3. If you ever get a Name Error in Python, you can always fix it immediately; see the last section of this <a href=\"../guides/06_python_foundations.ipynb\">Python Foundations guide</a> and follow both tutorials and exercises.<br/>\n",
    "            </span>\n",
    "        </td>\n",
    "    </tr>\n",
    "</table>"
   ]
  },
  {
   "cell_type": "code",
   "execution_count": 38,
   "metadata": {},
   "outputs": [
    {
     "name": "stdout",
     "output_type": "stream",
     "text": [
      "OpenAI API Key exists and begins sk-proj-\n"
     ]
    }
   ],
   "source": [
    "# Check the key - if you're not using OpenAI, check whichever key you're using! Ollama doesn't need a key.\n",
    "\n",
    "import os\n",
    "openai_api_key = os.getenv('OPENAI_API_KEY')\n",
    "\n",
    "if openai_api_key:\n",
    "    print(f\"OpenAI API Key exists and begins {openai_api_key[:8]}\")\n",
    "else:\n",
    "    print(\"OpenAI API Key not set - please head to the troubleshooting guide in the setup folder\")\n",
    "    \n",
    "from IPython.display import Markdown, display"
   ]
  },
  {
   "cell_type": "code",
   "execution_count": 35,
   "metadata": {},
   "outputs": [],
   "source": [
    "# And now - the all important import statement\n",
    "# If you get an import error - head over to troubleshooting in the Setup folder\n",
    "# Even for other LLM providers like Gemini, you still use this OpenAI import - see Guide 9 for why\n",
    "\n",
    "from openai import OpenAI"
   ]
  },
  {
   "cell_type": "code",
   "execution_count": 36,
   "metadata": {},
   "outputs": [],
   "source": [
    "# And now we'll create an instance of the OpenAI class\n",
    "# If you're not sure what it means to create an instance of a class - head over to the guides folder (guide 6)!\n",
    "# If you get a NameError - head over to the guides folder (guide 6)to learn about NameErrors - always instantly fixable\n",
    "# If you're not using OpenAI, you just need to slightly modify this - precise instructions are in the AI APIs guide (guide 9)\n",
    "\n",
    "openai = OpenAI()"
   ]
  },
  {
   "cell_type": "code",
   "execution_count": 10,
   "metadata": {},
   "outputs": [],
   "source": [
    "# Create a list of messages in the familiar OpenAI format\n",
    "\n",
    "messages = [{\"role\": \"user\", \"content\": \"What is color result from blue and red?\"}]"
   ]
  },
  {
   "cell_type": "code",
   "execution_count": null,
   "metadata": {},
   "outputs": [
    {
     "name": "stdout",
     "output_type": "stream",
     "text": [
      "Mixing blue and red typically results in purple or violet. The exact shade depends on the specific tones of blue and red used, as well as the proportions mixed.\n"
     ]
    }
   ],
   "source": [
    "# And now call it! Any problems, head to the troubleshooting guide\n",
    "# This uses GPT 4.1 nano, the incredibly cheap model\n",
    "# The APIs guide (guide 9) has exact instructions for using even cheaper or free alternatives to OpenAI\n",
    "# If you get a NameError, head to the guides folder (guide 6) to learn about NameErrors - always instantly fixable\n",
    "\n",
    "response = openai.chat.completions.create(\n",
    "    model=\"gpt-5-nano\",\n",
    "    messages=messages\n",
    ")\n",
    "\n",
    "print(response.choices[0].message.content)\n"
   ]
  },
  {
   "cell_type": "code",
   "execution_count": 27,
   "metadata": {},
   "outputs": [],
   "source": [
    "# And now - let's ask for a question:\n",
    "\n",
    "question = \"Please propose a hard, challenging question to assess someone's IQ. Respond only with the question.\"\n",
    "messages = [{\"role\": \"user\", \"content\": question}]\n"
   ]
  },
  {
   "cell_type": "code",
   "execution_count": null,
   "metadata": {},
   "outputs": [
    {
     "name": "stdout",
     "output_type": "stream",
     "text": [
      "You are given 12 visually identical balls; exactly one has a different weight (it may be heavier or lighter), and you have a balance scale that can compare two groups of balls. Using no more than three weighings, determine which ball is the odd one and whether it is heavier or lighter—how do you do it?\n"
     ]
    }
   ],
   "source": [
    "# ask it - this uses GPT 4.1 mini, still cheap but more powerful than nano\n",
    "\n",
    "response = openai.chat.completions.create(\n",
    "    model=\"gpt-5-nano\",\n",
    "    messages=messages\n",
    ")\n",
    "\n",
    "question = response.choices[0].message.content\n",
    "\n",
    "print(question)\n"
   ]
  },
  {
   "cell_type": "code",
   "execution_count": 29,
   "metadata": {},
   "outputs": [],
   "source": [
    "# form a new messages list\n",
    "messages = [{\"role\": \"user\", \"content\": question}]\n"
   ]
  },
  {
   "cell_type": "code",
   "execution_count": null,
   "metadata": {},
   "outputs": [
    {
     "name": "stdout",
     "output_type": "stream",
     "text": [
      "This is the classic **12-ball weighing puzzle**. The goal is to find the one ball that differs in weight (either heavier or lighter) among 12 visually identical balls, using a balance scale **no more than three times**.\n",
      "\n",
      "---\n",
      "\n",
      "## Key Insight:\n",
      "- 3 weighings = 3 comparisons.\n",
      "- Each weighing has 3 possible outcomes: left side heavier, right side heavier, or balanced.\n",
      "- Thus, 3 weighings can differentiate among \\(3^3 = 27\\) possible scenarios.\n",
      "- There are 12 balls, each can be heavier or lighter → \\(12 \\times 2 = 24\\) possibilities.\n",
      "- 27 > 24, so it’s **just possible**.\n",
      "\n",
      "---\n",
      "\n",
      "## Step-by-step solution:\n",
      "\n",
      "### Step 1: Initial Grouping and Weighing\n",
      "\n",
      "Number the balls: 1 to 12.\n",
      "\n",
      "- **First weighing:** Compare 4 balls vs 4 balls.\n",
      "  \n",
      "  Example: weigh balls #1, #2, #3, #4 against #5, #6, #7, #8.\n",
      "\n",
      "- Outcomes:\n",
      "\n",
      "  1. **Balanced:** The odd ball is in balls #9, 10, 11, or 12.\n",
      "  2. **Left side heavier:** Odd ball is among #1-4 or #5-8 — and we know if it's heavier or lighter depending on the side.\n",
      "  3. **Right side heavier:** Similarly, odd ball among #1-4 or #5-8, but opposite assumption.\n",
      "\n",
      "---\n",
      "\n",
      "### Step 2: Narrow possibilities based on the first weighing result.\n",
      "\n",
      "There are three cases:\n",
      "\n",
      "---\n",
      "\n",
      "### Case 1: First weighing is **balanced**  \n",
      "Odd ball is among balls #9, #10, #11, #12.\n",
      "\n",
      "- **Second weighing:** Compare #1, #2, #9 vs #3, #4, #10. (Since #1-4 balanced before and are good reference weights.)\n",
      "\n",
      "  - If this weighing is balanced:\n",
      "    - Odd ball is either #11 or #12.\n",
      "  \n",
      "  - If left side heavier:\n",
      "    - If #9 is heavier or #10 is lighter.\n",
      "  \n",
      "  - If right side heavier:\n",
      "    - If #9 is lighter or #10 is heavier.\n",
      "\n",
      "- **Third weighing:** Compare #11 vs #12.\n",
      "\n",
      "  - If balanced, the odd ball is #9 or #10 (based on previous).\n",
      "  - If unbalanced, odd ball found and heavier/lighter determined.\n",
      "\n",
      "---\n",
      "\n",
      "### Case 2: First weighing, left side is heavier  \n",
      "Odd ball is among balls #1-4 or #5-8, heavier on left or lighter on right.\n",
      "\n",
      "- **Second weighing:** Swap to confirm - weigh #1, #2, #5 vs #3, #6, #9.\n",
      "\n",
      "  - Analyze outcomes, deduce which ball is odd and its nature.\n",
      "  \n",
      "- **Third weighing:** Use a previous known ball and the suspected odd ball to weigh off and confirm.\n",
      "\n",
      "---\n",
      "\n",
      "### Case 3: First weighing, right side is heavier  \n",
      "Symmetric to Case 2 but swapped sides.\n",
      "\n",
      "---\n",
      "\n",
      "## Detailed Algorithm:\n",
      "\n",
      "To make it more exact, here’s the known canonical procedure:\n",
      "\n",
      "1. **First weighing:** Compare 1,2,3,4 with 5,6,7,8.\n",
      "\n",
      "   - If equal, odd ball is in 9-12.\n",
      "   - If not equal, odd ball in 1-8.\n",
      "\n",
      "2. Based on which group, perform weighings dividing into groups of three or four to isolate the odd ball and determine heavier or lighter by comparing known balls.\n",
      "\n",
      "---\n",
      "\n",
      "## Summary:\n",
      "\n",
      "- 3 weighings are sufficient.\n",
      "- At every stage, the weighing is carefully chosen to split the possibilities as evenly as possible.\n",
      "- We use the results of each weighing to deduce whether the odd ball is heavier or lighter.\n",
      "\n",
      "---\n",
      "\n",
      "If you want, I can provide a full detailed step-by-step with all weighings for each case — just ask!\n"
     ]
    }
   ],
   "source": [
    "# Ask it again\n",
    "\n",
    "response = openai.chat.completions.create(\n",
    "    model=\"gpt-5-mini\",\n",
    "    messages=messages\n",
    ")\n",
    "\n",
    "answer = response.choices[0].message.content\n",
    "print(answer)\n"
   ]
  },
  {
   "cell_type": "code",
   "execution_count": 31,
   "metadata": {},
   "outputs": [
    {
     "data": {
      "text/markdown": [
       "This is the classic **12-ball weighing puzzle**. The goal is to find the one ball that differs in weight (either heavier or lighter) among 12 visually identical balls, using a balance scale **no more than three times**.\n",
       "\n",
       "---\n",
       "\n",
       "## Key Insight:\n",
       "- 3 weighings = 3 comparisons.\n",
       "- Each weighing has 3 possible outcomes: left side heavier, right side heavier, or balanced.\n",
       "- Thus, 3 weighings can differentiate among \\(3^3 = 27\\) possible scenarios.\n",
       "- There are 12 balls, each can be heavier or lighter → \\(12 \\times 2 = 24\\) possibilities.\n",
       "- 27 > 24, so it’s **just possible**.\n",
       "\n",
       "---\n",
       "\n",
       "## Step-by-step solution:\n",
       "\n",
       "### Step 1: Initial Grouping and Weighing\n",
       "\n",
       "Number the balls: 1 to 12.\n",
       "\n",
       "- **First weighing:** Compare 4 balls vs 4 balls.\n",
       "  \n",
       "  Example: weigh balls #1, #2, #3, #4 against #5, #6, #7, #8.\n",
       "\n",
       "- Outcomes:\n",
       "\n",
       "  1. **Balanced:** The odd ball is in balls #9, 10, 11, or 12.\n",
       "  2. **Left side heavier:** Odd ball is among #1-4 or #5-8 — and we know if it's heavier or lighter depending on the side.\n",
       "  3. **Right side heavier:** Similarly, odd ball among #1-4 or #5-8, but opposite assumption.\n",
       "\n",
       "---\n",
       "\n",
       "### Step 2: Narrow possibilities based on the first weighing result.\n",
       "\n",
       "There are three cases:\n",
       "\n",
       "---\n",
       "\n",
       "### Case 1: First weighing is **balanced**  \n",
       "Odd ball is among balls #9, #10, #11, #12.\n",
       "\n",
       "- **Second weighing:** Compare #1, #2, #9 vs #3, #4, #10. (Since #1-4 balanced before and are good reference weights.)\n",
       "\n",
       "  - If this weighing is balanced:\n",
       "    - Odd ball is either #11 or #12.\n",
       "  \n",
       "  - If left side heavier:\n",
       "    - If #9 is heavier or #10 is lighter.\n",
       "  \n",
       "  - If right side heavier:\n",
       "    - If #9 is lighter or #10 is heavier.\n",
       "\n",
       "- **Third weighing:** Compare #11 vs #12.\n",
       "\n",
       "  - If balanced, the odd ball is #9 or #10 (based on previous).\n",
       "  - If unbalanced, odd ball found and heavier/lighter determined.\n",
       "\n",
       "---\n",
       "\n",
       "### Case 2: First weighing, left side is heavier  \n",
       "Odd ball is among balls #1-4 or #5-8, heavier on left or lighter on right.\n",
       "\n",
       "- **Second weighing:** Swap to confirm - weigh #1, #2, #5 vs #3, #6, #9.\n",
       "\n",
       "  - Analyze outcomes, deduce which ball is odd and its nature.\n",
       "  \n",
       "- **Third weighing:** Use a previous known ball and the suspected odd ball to weigh off and confirm.\n",
       "\n",
       "---\n",
       "\n",
       "### Case 3: First weighing, right side is heavier  \n",
       "Symmetric to Case 2 but swapped sides.\n",
       "\n",
       "---\n",
       "\n",
       "## Detailed Algorithm:\n",
       "\n",
       "To make it more exact, here’s the known canonical procedure:\n",
       "\n",
       "1. **First weighing:** Compare 1,2,3,4 with 5,6,7,8.\n",
       "\n",
       "   - If equal, odd ball is in 9-12.\n",
       "   - If not equal, odd ball in 1-8.\n",
       "\n",
       "2. Based on which group, perform weighings dividing into groups of three or four to isolate the odd ball and determine heavier or lighter by comparing known balls.\n",
       "\n",
       "---\n",
       "\n",
       "## Summary:\n",
       "\n",
       "- 3 weighings are sufficient.\n",
       "- At every stage, the weighing is carefully chosen to split the possibilities as evenly as possible.\n",
       "- We use the results of each weighing to deduce whether the odd ball is heavier or lighter.\n",
       "\n",
       "---\n",
       "\n",
       "If you want, I can provide a full detailed step-by-step with all weighings for each case — just ask!"
      ],
      "text/plain": [
       "<IPython.core.display.Markdown object>"
      ]
     },
     "metadata": {},
     "output_type": "display_data"
    }
   ],
   "source": [
    "from IPython.display import Markdown, display\n",
    "\n",
    "display(Markdown(answer))\n",
    "\n"
   ]
  },
  {
   "cell_type": "markdown",
   "metadata": {},
   "source": [
    "# Congratulations!\n",
    "\n",
    "That was a small, simple step in the direction of Agentic AI, with your new environment!\n",
    "\n",
    "Next time things get more interesting..."
   ]
  },
  {
   "cell_type": "markdown",
   "metadata": {},
   "source": [
    "<table style=\"margin: 0; text-align: left; width:100%\">\n",
    "    <tr>\n",
    "        <td style=\"width: 150px; height: 150px; vertical-align: middle;\">\n",
    "            <img src=\"../assets/exercise.png\" width=\"150\" height=\"150\" style=\"display: block;\" />\n",
    "        </td>\n",
    "        <td>\n",
    "            <h2 style=\"color:#ff7800;\">Exercise</h2>\n",
    "            <span style=\"color:#ff7800;\">Now try this commercial application:<br/>\n",
    "            First ask the LLM to pick a business area that might be worth exploring for an Agentic AI opportunity.<br/>\n",
    "            Then ask the LLM to present a pain-point in that industry - something challenging that might be ripe for an Agentic solution.<br/>\n",
    "            Finally have 3 third LLM call propose the Agentic AI solution. <br/>\n",
    "            We will cover this at up-coming labs, so don't worry if you're unsure.. just give it a try!\n",
    "            </span>\n",
    "        </td>\n",
    "    </tr>\n",
    "</table>"
   ]
  },
  {
   "cell_type": "code",
   "execution_count": 53,
   "metadata": {},
   "outputs": [
    {
     "data": {
      "text/markdown": [
       "Autonomous AI as a Service for business workflows: a platform that deploys agentic AI agents to execute end-to-end tasks (data gathering, report generation, outreach, scheduling) with governance, safety controls, and human-in-the-loop escalation."
      ],
      "text/plain": [
       "<IPython.core.display.Markdown object>"
      ]
     },
     "metadata": {},
     "output_type": "display_data"
    }
   ],
   "source": [
    "# First create the messages:\n",
    "\n",
    "messages = [{\"role\": \"user\", \"content\": \"Pick a business idea of an app or web service that might exploring for and Agentic AI opportunity in tech. Keep it short, under 50 words, professional and modern to the current standards and trends.\"}]\n",
    "\n",
    "# Then make the first call:\n",
    "\n",
    "response = openai.chat.completions.create(\n",
    "    model=\"gpt-5-nano\",\n",
    "    messages=messages\n",
    ")\n",
    "# Then read the business idea:\n",
    "business_idea = response.choices[0].message.content\n",
    "\n",
    "display(Markdown(business_idea))"
   ]
  },
  {
   "cell_type": "code",
   "execution_count": 54,
   "metadata": {},
   "outputs": [
    {
     "data": {
      "text/markdown": [
       "Pain-point: Fragmented, high-friction end-to-end workflows across heterogeneous systems with weak governance and human-in-the-loop gaps\n",
       "\n",
       "Why it’s painful\n",
       "- Data is scattered: Data needed for end-to-end tasks lives in CRM, ERP, marketing platforms, email, document repos, and external sources. Connecting these silos in real time is brittle and error-prone.\n",
       "- Manual handoffs dominate: Even when automation exists, humans must intervene for data validation, approvals, or exceptions, causing delays and inconsistent outcomes.\n",
       "- Governance and compliance gaps: No single, auditable record of decisions, data access, or prompts used by automated agents. Risk of privacy breaches, policy violations, and regulatory drift grows as automation scales.\n",
       "- Trust and safety concerns: Autonomous agents making or acting on decisions without clear explainability or escalation paths create risk for wrong actions, data leakage, or costly mistakes.\n",
       "- Cost and scalability limits: RPA-style or ad-hoc automations scale poorly as task complexity increases, leading to rising maintenance, tool-bloat, and cost.\n",
       "\n",
       "Who’s affected\n",
       "- Operations teams (sales ops, finance, supply chain) who need faster, reliable end-to-end processes.\n",
       "- IT and compliance teams responsible for data security, access controls, and auditability.\n",
       "- Decision-makers who rely on timely, accurate reports and outreach outcomes to drive business results.\n",
       "\n",
       "Why this is ripe for an agentic solution\n",
       "- An Autonomous AI as a Service platform can deploy specialized agents that reason about tasks, decompose them into subtasks, orchestrate across tools, and execute end-to-end workflows (data gathering, report generation, outreach, scheduling) with built-in governance.\n",
       "- It enables human-in-the-loop escalation when confidence is low or data quality is suspect, while maintaining a single, auditable trail of actions and decisions.\n",
       "- It addresses the core bottlenecks: cross-tool data synthesis, timely task completion, and consistent compliance/adherence to policies.\n",
       "\n",
       "Concrete scenario (use-case sketch)\n",
       "- Sales ops funnel: An agent gathers data from CRM, marketing automation, and finance ERP to build a quarterly forecast. It generates a report, emails stakeholders with a summarized brief and attached report, and automatically schedules follow-ups with account owners. If data is incomplete or a policy constraint is triggered (e.g., PII exposure or a data access violation), it escalates to a human with context and proposed remediation.\n",
       "\n",
       "Key capabilities a platform needs to address this pain\n",
       "- End-to-end orchestration across diverse apps and data sources.\n",
       "- Task planning, dynamic decomposition, and multi-agent collaboration.\n",
       "- Governance by design: policy engines, access controls, data provenance, and auditable logs.\n",
       "- Safety controls: confidence thresholds, automatic retries, safe fallbacks, explainability.\n",
       "- Human-in-the-loop escalation: clear handoff points with context and recommended actions.\n",
       "- Observability and drift detection: monitoring, SLAs, cost controls, and compliance alerts.\n",
       "\n",
       "Metrics to gauge value\n",
       "- Time to complete end-to-end tasks (reduction from days to hours).\n",
       "- Task success rate and data quality scores.\n",
       "- Number and quality of escalations resolved with human input.\n",
       "- Compliance incidents and audit findings.\n",
       "- Cost per automated workflow vs. manual process.\n",
       "\n",
       "If you want, I can tailor this to a specific industry segment (e.g., enterprise sales, finance ops, supplier onboarding) and map concrete agent roles and governance policies."
      ],
      "text/plain": [
       "<IPython.core.display.Markdown object>"
      ]
     },
     "metadata": {},
     "output_type": "display_data"
    }
   ],
   "source": [
    "# Then make the second call:\n",
    "messages = [{\"role\": \"user\", \"content\": f\"Present a pain-point in that industry - something challenging that might be ripe for an Agentic solution: {business_idea}\"}]\n",
    "\n",
    "response = openai.chat.completions.create(\n",
    "    model=\"gpt-5-nano\",\n",
    "    messages=messages\n",
    ")\n",
    "# Then read the pain point:\n",
    "pain_point = response.choices[0].message.content\n",
    "display(Markdown(pain_point))"
   ]
  },
  {
   "cell_type": "code",
   "execution_count": null,
   "metadata": {},
   "outputs": [
    {
     "data": {
      "text/markdown": [
       "Below is a concrete, actionable Agentic AI solution for the pain point you described: fragmented, high-friction end-to-end workflows across heterogeneous systems with weak governance and human-in-the-loop gaps. I give: a high-level architecture and component breakdown, a concrete sales-ops scenario flow, governance & safety design, observability/metrics, rollout schedule (phases + weeks), and a simple ASCII diagram to visualize end-to-end flow. I’ll finish with recommended KPIs and risk mitigations. If you want, I can adapt this to a specific industry and map agent roles and policies.\n",
       "\n",
       "Solution summary (one-line)\n",
       "- Build an Autonomous AI-as-a-Service platform that composes specialized agents (Planner, DataCollector, Validator, Executor, Auditor, Compliance/Human-Escalation) orchestrated by an orchestration engine, backed by a canonical data layer, a policy engine, and an immutable audit trail — enabling safe, auditable end-to-end workflows across heterogeneous systems.\n",
       "\n",
       "High-level architecture (components and responsibilities)\n",
       "- Orchestration & Planner\n",
       "  - Role: Receive intent/tasks, decompose into subtasks, allocate to agents, manage retries and SLAs.\n",
       "  - Tech pattern: workflow engine (Temporal, Airflow-like control plane, or custom orchestrator).\n",
       "\n",
       "- Multi-Agent Runtime\n",
       "  - Agent types: Planner, DataCollector, Synthesizer/Reporter, Validator, Executor (actions: emails, calendar, CRM updates), ComplianceAgent, Auditor, HumanEscalationAgent.\n",
       "  - Agents communicate via messages/events and shared data store; specialized models/skills for each integration.\n",
       "\n",
       "- Integration Layer (Connectors)\n",
       "  - Pre-built, secured connectors to CRM, ERP, marketing platforms, email, document repos, external APIs.\n",
       "  - Patterns: connector adapter + polling/webhooks + normalized canonical data model (CDM).\n",
       "  - Connectors enforce least-privilege API access and maintain connector-specific audit logs.\n",
       "\n",
       "- Canonical Data & Context Store\n",
       "  - A normalized, time-versioned workspace that stores transient and materialized context for each workflow (embeddings for semantic search, data snapshots, provenance metadata).\n",
       "  - Use vector DB for retrieval, and a relational/NoSQL store for transactional data.\n",
       "\n",
       "- Policy & Governance Engine\n",
       "  - Centralized rule engine (e.g., OPA-style) to enforce access control, PII rules, retention, escalation thresholds.\n",
       "  - Policy-as-code, testable in CI, versioned.\n",
       "\n",
       "- Immutable Audit & Provenance Ledger\n",
       "  - Append-only, tamper-evident logs (content-hash, signer, timestamp) for decisions, prompts, data reads/writes, and agent actions.\n",
       "  - Cryptographic signatures or write-once storage for regulatory auditability.\n",
       "\n",
       "- Human-in-the-Loop Interface\n",
       "  - Lightweight UI where humans see context, recommended fix, confidence scores, relevant evidence, and can approve/reject or modify actions.\n",
       "  - Support for asynchronous approvals (email/Slack) with signed responses.\n",
       "\n",
       "- Safety & Observability\n",
       "  - Confidence/uncertainty scoring, automatic fallbacks, sandbox testing, canary rollouts.\n",
       "  - Monitoring: task SLAs, cost, error rates, drift detection, compliance alerts.\n",
       "\n",
       "- Secrets & Access Control\n",
       "  - Vault for secrets, RBAC/ABAC for access to connectors and agent capabilities, dynamic credentials where possible.\n",
       "\n",
       "- Retraining & Feedback Loop\n",
       "  - Mechanism to capture human corrections and outcomes to continuously improve validators and LLM prompt/chain logic.\n",
       "\n",
       "Concrete end-to-end scenario: Sales ops quarterly forecast (step-by-step)\n",
       "1. Trigger: \"Build Q4 forecast\" scheduled or invoked.\n",
       "2. Planner agent:\n",
       "   - Decomposes request: gather pipeline data, verify finance marks, reconcile marketing influence, build forecast model, generate report, email stakeholders + schedule follow-ups.\n",
       "   - Determines confidence thresholds and human-check gates (e.g., when >X% missing fields or PII surfaces).\n",
       "3. DataCollector agents:\n",
       "   - Pulls canonical snapshots from CRM, marketing automation, ERP (in parallel), applies transform rules, and stores a versioned snapshot in the context store.\n",
       "   - Logs all reads in the audit ledger.\n",
       "4. Validator agent:\n",
       "   - Runs data quality checks, dedup, outlier detection, cross-source reconciliation, and flags exceptions (e.g., missing revenue recognition fields).\n",
       "   - If PII or access violation detected, tag and escalate to ComplianceAgent immediately.\n",
       "5. Model/Synthesizer:\n",
       "   - Generates the forecast (rule-based + learned model), creates a narrative summary, and constructs attachments.\n",
       "   - Attaches provenance (what data was used, when, and with what transforms).\n",
       "6. Executor agent:\n",
       "   - Creates/update report doc in doc repo, sends summarized email to stakeholders with embedded confidence and a link to the human-in-the-loop review (if required), and schedules follow-ups in calendar for account owners.\n",
       "   - All outbound actions are logged; email/call templates include audit token linking to context.\n",
       "7. Human-in-the-loop (if gate triggered):\n",
       "   - Human gets a compact review UI: data snapshot, top 3 anomalies, recommended remediation steps, and an approve/reject/modify control.\n",
       "   - Their decision is recorded with signature and added to the audit ledger.\n",
       "8. Auditor/Compliance agent:\n",
       "   - Periodically scans completed workflows to enforce retention, and to create evidence bundles for audits.\n",
       "\n",
       "Simple ASCII sequence diagram\n",
       "User/Trigger -> Orchestrator/Planner -> [DataCollector agents] -> Canonical Data Store\n",
       "Canonical Data Store -> Validator -> (If policy violation) -> ComplianceAgent -> HumanEscalation -> Human\n",
       "Planner -> Synthesizer -> Executor -> External Systems (CRM, Email, Calendar)\n",
       "All steps -> Audit Ledger / Observability\n",
       "\n",
       "Governance and safety by design\n",
       "- Policy-as-code: encode data access, PII masking rules, and escalation triggers as versioned, testable policies.\n",
       "- Least-privilege connectors & ephemeral credentials: dynamic tokens per run where possible.\n",
       "- Provenance-first logging: every read/write, prompt, model call logged with content hash, model version, prompt template, and responsible agent ID. Build an \"evidence bundle\" per workflow for audits.\n",
       "- Confidence thresholds & safe-fail: each agent produces a confidence score; planner enforces thresholds: below threshold -> human-review; medium -> limited/simulated action; high -> automatic execution.\n",
       "- Explainability: store model metadata and a human-readable rationale for decisions (top contributing factors).\n",
       "- Escalation workflows: notifications with incident context, suggested remediation steps, time-boxed SLA to respond; auto-escalate if not resolved.\n",
       "\n",
       "Observability, metrics and drift detection\n",
       "- Core metrics: end-to-end time, per-step latency, task success rate, escalation rate, mean time to resolution (MTR) of escalations, number of compliance incidents, cost per workflow.\n",
       "- Data quality metrics: missing fields rate, reconciliation delta, freshness.\n",
       "- Model drift: monitor prediction variance, error rates vs actual outcomes, and automatic retraining triggers.\n",
       "- Cost controls: per-agent budget caps, per-connector cost profiling, alert on anomalous API usage.\n",
       "\n",
       "Implementation roadmap (12–16 week pilot to initial production)\n",
       "Week 0–2: Discovery & design\n",
       "- Identify 2–3 high-value workflows (start with Sales Ops funnel).\n",
       "- Map systems, security requirements, stakeholders, and SLAs.\n",
       "- Define policies, success metrics, and escalation rules.\n",
       "\n",
       "Week 3–6: Foundational infra & connectors\n",
       "- Provision orchestration engine, canonical data store, audit ledger, secrets vault.\n",
       "- Build/connect 3 core connectors (CRM, ERP, Email) and implement canonical schema.\n",
       "- Implement policy engine skeleton and log pipeline.\n",
       "\n",
       "Week 7–9: Agents & pilot workflow build\n",
       "- Implement Planner, DataCollector, Validator, Executor agents for pilot flow.\n",
       "- Build human-in-the-loop UI for approvals and context display.\n",
       "- Implement audit logging and provenance capture for pilot runs.\n",
       "\n",
       "Week 10–12: Test, security review, and pilot run\n",
       "- Run closed pilot on historical data; validate outputs and human workflows.\n",
       "- Conduct security / compliance review and iterate on policies.\n",
       "- Train users and run live pilot with limited scope (e.g., 1 region or 1 product).\n",
       "\n",
       "Week 13–16: Scale & harden\n",
       "- Add more connectors, refine agents, implement monitoring dashboards and automatic retrain pipelines.\n",
       "- Expand to additional teams, optimize costs, and formalize governance processes.\n",
       "\n",
       "Operational handoff & continuous improvement\n",
       "- Establish SLOs/SLAs, runbooks for incidents, and a governance council for policy changes.\n",
       "- Feedback loop: capture human corrections, update validators and planner heuristics, and test via CI.\n",
       "\n",
       "Estimated impact (example targets)\n",
       "- Time to complete end-to-end task: reduce from days -> hours (target 60–90% faster).\n",
       "- Task success rate: raise automated-success rate from 50% -> 85–95% via validation & escalation.\n",
       "- Escalations: reduce noisy/unnecessary escalations by surfacing high-signal context (target 30–50% fewer escalations over time).\n",
       "- Compliance incidents: aim for zero unlogged policy violations via enforced provenance and policy engine.\n",
       "- Cost per workflow: reduce operating cost vs manual FTE time; track ROI from saved FTE hours and faster decisions.\n",
       "\n",
       "Risk & mitigation\n",
       "- Data leakage: mitigate with strict PII policies, tokenized access, and pre-send PII scans.\n",
       "- Wrong actions: mitigated by confidence thresholds, canarying, human gates on high-impact tasks.\n",
       "- Model drift: continuous monitoring and scheduled retraining with labeled outcomes.\n",
       "- Audit/regulatory pushback: provide reproducible evidence bundles and policy audit trails; get early buy-in from compliance.\n",
       "\n",
       "Optional expansions and future-proofing\n",
       "- Plug-in marketplace of domain skill agents (finance reconciler, legal-checker).\n",
       "- Role-based cost allocation and showback.\n",
       "- Multi-tenant governance for business units with shared core policies and local overrides.\n",
       "- Fine-grained provenance linking to blockchain/timestamping if required.\n",
       "\n",
       "What I need from you to tailor this\n",
       "- Which industry or workflow should I adapt this to? (Enterprise sales ops, finance ops, supplier onboarding, healthcare claims, etc.)\n",
       "- Examples of core systems/APIs (CRM vendor, ERP, identity provider).\n",
       "- Regulatory constraints (GDPR, HIPAA, SOX) and desired escalation SLAs.\n",
       "\n",
       "If you want, I will:\n",
       "- Produce a diagram in a shareable visual format (SVG/PNG).\n",
       "- Provide a detailed agent role matrix (inputs, outputs, actions, required connectors).\n",
       "- Create a two-quarter rollout schedule with resource estimates (people & infra)."
      ],
      "text/plain": [
       "<IPython.core.display.Markdown object>"
      ]
     },
     "metadata": {},
     "output_type": "display_data"
    }
   ],
   "source": [
    "# Third, propose an Agentic solution to that pain point:\n",
    "messages = [{\"role\": \"user\", \"content\": f\"Propose an Agentic AI solution to the following pain point: {pain_point}. Present diagrams and a schedule if apply\"}]\n",
    "\n",
    "response = openai.chat.completions.create(\n",
    "    model=\"gpt-5-nano\",\n",
    "    messages=messages\n",
    ")\n",
    "# Then read the solution:\n",
    "solution = response.choices[0].message.content\n",
    "display(Markdown(solution))"
   ]
  }
 ],
 "metadata": {
  "kernelspec": {
   "display_name": "agents",
   "language": "python",
   "name": "python3"
  },
  "language_info": {
   "codemirror_mode": {
    "name": "ipython",
    "version": 3
   },
   "file_extension": ".py",
   "mimetype": "text/x-python",
   "name": "python",
   "nbconvert_exporter": "python",
   "pygments_lexer": "ipython3",
   "version": "3.12.11"
  }
 },
 "nbformat": 4,
 "nbformat_minor": 2
}
